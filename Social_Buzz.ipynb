{
 "cells": [
  {
   "cell_type": "code",
   "execution_count": 351,
   "id": "c0976042-ced7-4995-b73f-1a5b8c03218a",
   "metadata": {},
   "outputs": [],
   "source": [
    "import numpy as np\n",
    "import pandas as pd\n",
    "import matplotlib.pyplot as plt"
   ]
  },
  {
   "cell_type": "code",
   "execution_count": 352,
   "id": "c896ecd3-033b-49bc-a899-5081f1442deb",
   "metadata": {},
   "outputs": [],
   "source": [
    "Content = pd.read_csv('Content.csv')\n",
    "Reactions = pd.read_csv('Reactions.csv')\n",
    "ReactionType = pd.read_csv('ReactionTypes.csv')"
   ]
  },
  {
   "cell_type": "markdown",
   "id": "0b5cd7dd-e93c-4d67-bcea-81e622e0ad95",
   "metadata": {},
   "source": [
    "### Data Cleaning"
   ]
  },
  {
   "cell_type": "markdown",
   "id": "4fb1381a-e919-44ed-a28f-b859b50c9be6",
   "metadata": {},
   "source": [
    "#### cleaning the Content dataset"
   ]
  },
  {
   "cell_type": "code",
   "execution_count": 442,
   "id": "8391da85-3780-4650-8be1-9ca1db5ebc4d",
   "metadata": {},
   "outputs": [
    {
     "name": "stdout",
     "output_type": "stream",
     "text": [
      "<class 'pandas.core.frame.DataFrame'>\n",
      "RangeIndex: 1000 entries, 0 to 999\n",
      "Data columns (total 4 columns):\n",
      " #   Column        Non-Null Count  Dtype \n",
      "---  ------        --------------  ----- \n",
      " 0   Unnamed: 0    1000 non-null   int64 \n",
      " 1   Content ID    1000 non-null   object\n",
      " 2   Content_type  1000 non-null   object\n",
      " 3   Category      1000 non-null   object\n",
      "dtypes: int64(1), object(3)\n",
      "memory usage: 31.4+ KB\n"
     ]
    }
   ],
   "source": [
    "Content.info()"
   ]
  },
  {
   "cell_type": "code",
   "execution_count": 355,
   "id": "a0cbeb88-7203-4e83-a057-e1d58897e61d",
   "metadata": {},
   "outputs": [],
   "source": [
    "# droping unecessary columns\n",
    "Content.drop(columns = ['URL','User ID'],inplace = True)"
   ]
  },
  {
   "cell_type": "code",
   "execution_count": 356,
   "id": "42b594f0-7c92-442c-ad3c-147cc247dad0",
   "metadata": {},
   "outputs": [
    {
     "data": {
      "text/plain": [
       "Unnamed: 0    0\n",
       "Content ID    0\n",
       "Type          0\n",
       "Category      0\n",
       "dtype: int64"
      ]
     },
     "execution_count": 356,
     "metadata": {},
     "output_type": "execute_result"
    }
   ],
   "source": [
    "# checking null values\n",
    "Content.isnull().sum()"
   ]
  },
  {
   "cell_type": "code",
   "execution_count": 357,
   "id": "f8296f58-bc89-479c-ba13-289763d47028",
   "metadata": {},
   "outputs": [
    {
     "data": {
      "text/plain": [
       "(41,)"
      ]
     },
     "execution_count": 357,
     "metadata": {},
     "output_type": "execute_result"
    }
   ],
   "source": [
    "#cleaning the Category column\n",
    "Content['Category'].unique().shape"
   ]
  },
  {
   "cell_type": "code",
   "execution_count": 358,
   "id": "494f1040-a611-4f5f-beb2-8363d45ffbef",
   "metadata": {},
   "outputs": [
    {
     "data": {
      "text/plain": [
       "array(['Studying', 'healthy eating', 'technology', 'food', 'cooking',\n",
       "       'dogs', 'soccer', 'public speaking', 'science', 'tennis', 'travel',\n",
       "       'fitness', 'education', 'studying', 'veganism', 'Animals',\n",
       "       'animals', 'culture', '\"culture\"', 'Fitness', '\"studying\"',\n",
       "       'Veganism', '\"animals\"', 'Travel', '\"soccer\"', 'Education',\n",
       "       '\"dogs\"', 'Technology', 'Soccer', '\"tennis\"', 'Culture', '\"food\"',\n",
       "       'Food', '\"technology\"', 'Healthy Eating', '\"cooking\"', 'Science',\n",
       "       '\"public speaking\"', '\"veganism\"', 'Public Speaking', '\"science\"'],\n",
       "      dtype=object)"
      ]
     },
     "execution_count": 358,
     "metadata": {},
     "output_type": "execute_result"
    }
   ],
   "source": [
    "Content['Category'].unique()"
   ]
  },
  {
   "cell_type": "code",
   "execution_count": 359,
   "id": "e04e13b4-771d-49f2-9e21-fa038f06e956",
   "metadata": {},
   "outputs": [],
   "source": [
    "# removign inconsistent data in Category column\n",
    "Content['Category']= Content['Category'].str.replace('\"','')"
   ]
  },
  {
   "cell_type": "code",
   "execution_count": 360,
   "id": "79dca7fc-c19a-43c8-a866-0807900bac69",
   "metadata": {},
   "outputs": [],
   "source": [
    "# coverting to lower case to make data consistent\n",
    "Content['Category']= Content['Category'].str.lower()"
   ]
  },
  {
   "cell_type": "code",
   "execution_count": 361,
   "id": "e517ab08-561d-4770-9670-b899868bcf06",
   "metadata": {},
   "outputs": [],
   "source": [
    "# rename column type to content_type\n",
    "Content = Content.rename(columns={'Type': 'Content_type'})"
   ]
  },
  {
   "cell_type": "markdown",
   "id": "abaf4d78-f312-42ef-90f8-badc0569965c",
   "metadata": {},
   "source": [
    "#### cleaning Reaction dataset"
   ]
  },
  {
   "cell_type": "code",
   "execution_count": 445,
   "id": "625cde39-32e2-4c7f-a44c-36a7827bfd94",
   "metadata": {},
   "outputs": [
    {
     "name": "stdout",
     "output_type": "stream",
     "text": [
      "<class 'pandas.core.frame.DataFrame'>\n",
      "Index: 24573 entries, 1 to 25552\n",
      "Data columns (total 5 columns):\n",
      " #   Column         Non-Null Count  Dtype         \n",
      "---  ------         --------------  -----         \n",
      " 0   Unnamed: 0     24573 non-null  int64         \n",
      " 1   Content ID     24573 non-null  object        \n",
      " 2   User ID        22534 non-null  object        \n",
      " 3   Reaction Type  24573 non-null  object        \n",
      " 4   Datetime       24573 non-null  datetime64[ns]\n",
      "dtypes: datetime64[ns](1), int64(1), object(3)\n",
      "memory usage: 1.1+ MB\n"
     ]
    }
   ],
   "source": [
    "Reactions.info()"
   ]
  },
  {
   "cell_type": "code",
   "execution_count": 363,
   "id": "93ce96a5-2184-47e0-96c6-49ae0d2ec15d",
   "metadata": {},
   "outputs": [
    {
     "data": {
      "text/plain": [
       "Unnamed: 0       0\n",
       "Content ID       0\n",
       "User ID       3019\n",
       "Type           980\n",
       "Datetime         0\n",
       "dtype: int64"
      ]
     },
     "execution_count": 363,
     "metadata": {},
     "output_type": "execute_result"
    }
   ],
   "source": [
    "Reactions.isnull().sum()"
   ]
  },
  {
   "cell_type": "code",
   "execution_count": 364,
   "id": "0289232e-910d-4b52-b009-a33c5fe83153",
   "metadata": {},
   "outputs": [],
   "source": [
    "#deleting null values in column Type\n",
    "Reactions= Reactions.dropna(subset=['Type'])"
   ]
  },
  {
   "cell_type": "code",
   "execution_count": 365,
   "id": "73c3d34b-fb30-4c80-a7ab-57cf1844e8f5",
   "metadata": {},
   "outputs": [
    {
     "data": {
      "text/plain": [
       "Unnamed: 0       0\n",
       "Content ID       0\n",
       "User ID       2039\n",
       "Type             0\n",
       "Datetime         0\n",
       "dtype: int64"
      ]
     },
     "execution_count": 365,
     "metadata": {},
     "output_type": "execute_result"
    }
   ],
   "source": [
    "Reactions.isnull().sum()"
   ]
  },
  {
   "cell_type": "code",
   "execution_count": 366,
   "id": "4df7ac8b-0fa5-4eb0-b7d5-a853d6624dc6",
   "metadata": {},
   "outputs": [
    {
     "data": {
      "text/html": [
       "<div>\n",
       "<style scoped>\n",
       "    .dataframe tbody tr th:only-of-type {\n",
       "        vertical-align: middle;\n",
       "    }\n",
       "\n",
       "    .dataframe tbody tr th {\n",
       "        vertical-align: top;\n",
       "    }\n",
       "\n",
       "    .dataframe thead th {\n",
       "        text-align: right;\n",
       "    }\n",
       "</style>\n",
       "<table border=\"1\" class=\"dataframe\">\n",
       "  <thead>\n",
       "    <tr style=\"text-align: right;\">\n",
       "      <th></th>\n",
       "      <th>Unnamed: 0</th>\n",
       "      <th>Content ID</th>\n",
       "      <th>Type</th>\n",
       "      <th>Datetime</th>\n",
       "    </tr>\n",
       "  </thead>\n",
       "  <tbody>\n",
       "    <tr>\n",
       "      <th>1</th>\n",
       "      <td>1</td>\n",
       "      <td>97522e57-d9ab-4bd6-97bf-c24d952602d2</td>\n",
       "      <td>disgust</td>\n",
       "      <td>2020-11-07 09:43:50</td>\n",
       "    </tr>\n",
       "    <tr>\n",
       "      <th>2</th>\n",
       "      <td>2</td>\n",
       "      <td>97522e57-d9ab-4bd6-97bf-c24d952602d2</td>\n",
       "      <td>dislike</td>\n",
       "      <td>2021-06-17 12:22:51</td>\n",
       "    </tr>\n",
       "    <tr>\n",
       "      <th>3</th>\n",
       "      <td>3</td>\n",
       "      <td>97522e57-d9ab-4bd6-97bf-c24d952602d2</td>\n",
       "      <td>scared</td>\n",
       "      <td>2021-04-18 05:13:58</td>\n",
       "    </tr>\n",
       "    <tr>\n",
       "      <th>4</th>\n",
       "      <td>4</td>\n",
       "      <td>97522e57-d9ab-4bd6-97bf-c24d952602d2</td>\n",
       "      <td>disgust</td>\n",
       "      <td>2021-01-06 19:13:01</td>\n",
       "    </tr>\n",
       "    <tr>\n",
       "      <th>5</th>\n",
       "      <td>5</td>\n",
       "      <td>97522e57-d9ab-4bd6-97bf-c24d952602d2</td>\n",
       "      <td>interested</td>\n",
       "      <td>2020-08-23 12:25:58</td>\n",
       "    </tr>\n",
       "    <tr>\n",
       "      <th>...</th>\n",
       "      <td>...</td>\n",
       "      <td>...</td>\n",
       "      <td>...</td>\n",
       "      <td>...</td>\n",
       "    </tr>\n",
       "    <tr>\n",
       "      <th>25548</th>\n",
       "      <td>25548</td>\n",
       "      <td>75d6b589-7fae-4a6d-b0d0-752845150e56</td>\n",
       "      <td>dislike</td>\n",
       "      <td>2020-06-27 09:46:48</td>\n",
       "    </tr>\n",
       "    <tr>\n",
       "      <th>25549</th>\n",
       "      <td>25549</td>\n",
       "      <td>75d6b589-7fae-4a6d-b0d0-752845150e56</td>\n",
       "      <td>intrigued</td>\n",
       "      <td>2021-02-16 17:17:02</td>\n",
       "    </tr>\n",
       "    <tr>\n",
       "      <th>25550</th>\n",
       "      <td>25550</td>\n",
       "      <td>75d6b589-7fae-4a6d-b0d0-752845150e56</td>\n",
       "      <td>interested</td>\n",
       "      <td>2020-09-12 03:54:58</td>\n",
       "    </tr>\n",
       "    <tr>\n",
       "      <th>25551</th>\n",
       "      <td>25551</td>\n",
       "      <td>75d6b589-7fae-4a6d-b0d0-752845150e56</td>\n",
       "      <td>worried</td>\n",
       "      <td>2020-11-04 20:08:31</td>\n",
       "    </tr>\n",
       "    <tr>\n",
       "      <th>25552</th>\n",
       "      <td>25552</td>\n",
       "      <td>75d6b589-7fae-4a6d-b0d0-752845150e56</td>\n",
       "      <td>cherish</td>\n",
       "      <td>2021-01-04 04:55:11</td>\n",
       "    </tr>\n",
       "  </tbody>\n",
       "</table>\n",
       "<p>24573 rows × 4 columns</p>\n",
       "</div>"
      ],
      "text/plain": [
       "       Unnamed: 0                            Content ID        Type  \\\n",
       "1               1  97522e57-d9ab-4bd6-97bf-c24d952602d2     disgust   \n",
       "2               2  97522e57-d9ab-4bd6-97bf-c24d952602d2     dislike   \n",
       "3               3  97522e57-d9ab-4bd6-97bf-c24d952602d2      scared   \n",
       "4               4  97522e57-d9ab-4bd6-97bf-c24d952602d2     disgust   \n",
       "5               5  97522e57-d9ab-4bd6-97bf-c24d952602d2  interested   \n",
       "...           ...                                   ...         ...   \n",
       "25548       25548  75d6b589-7fae-4a6d-b0d0-752845150e56     dislike   \n",
       "25549       25549  75d6b589-7fae-4a6d-b0d0-752845150e56   intrigued   \n",
       "25550       25550  75d6b589-7fae-4a6d-b0d0-752845150e56  interested   \n",
       "25551       25551  75d6b589-7fae-4a6d-b0d0-752845150e56     worried   \n",
       "25552       25552  75d6b589-7fae-4a6d-b0d0-752845150e56     cherish   \n",
       "\n",
       "                  Datetime  \n",
       "1      2020-11-07 09:43:50  \n",
       "2      2021-06-17 12:22:51  \n",
       "3      2021-04-18 05:13:58  \n",
       "4      2021-01-06 19:13:01  \n",
       "5      2020-08-23 12:25:58  \n",
       "...                    ...  \n",
       "25548  2020-06-27 09:46:48  \n",
       "25549  2021-02-16 17:17:02  \n",
       "25550  2020-09-12 03:54:58  \n",
       "25551  2020-11-04 20:08:31  \n",
       "25552  2021-01-04 04:55:11  \n",
       "\n",
       "[24573 rows x 4 columns]"
      ]
     },
     "execution_count": 366,
     "metadata": {},
     "output_type": "execute_result"
    }
   ],
   "source": [
    "# droping unnecessary columns\n",
    "Reactions.drop(columns = ['User ID'])"
   ]
  },
  {
   "cell_type": "code",
   "execution_count": 367,
   "id": "9ae7319e-089e-4371-a119-1c239a3cfce6",
   "metadata": {},
   "outputs": [],
   "source": [
    "# renaming column type to reacion_type\n",
    "Reactions = Reactions.rename(columns = {'Type':'Reaction Type'})"
   ]
  },
  {
   "cell_type": "code",
   "execution_count": 368,
   "id": "2bfe6e98-197e-4da0-b753-ea3399919488",
   "metadata": {},
   "outputs": [],
   "source": [
    "# changing datatype of datatime\n",
    "Reactions['Datetime'] = pd.to_datetime(Reactions['Datetime'])"
   ]
  },
  {
   "cell_type": "code",
   "execution_count": 369,
   "id": "c8d96d30-a032-4bbb-9ed8-b9f3f272e34e",
   "metadata": {},
   "outputs": [
    {
     "name": "stdout",
     "output_type": "stream",
     "text": [
      "<class 'pandas.core.frame.DataFrame'>\n",
      "Index: 24573 entries, 1 to 25552\n",
      "Data columns (total 5 columns):\n",
      " #   Column         Non-Null Count  Dtype         \n",
      "---  ------         --------------  -----         \n",
      " 0   Unnamed: 0     24573 non-null  int64         \n",
      " 1   Content ID     24573 non-null  object        \n",
      " 2   User ID        22534 non-null  object        \n",
      " 3   Reaction Type  24573 non-null  object        \n",
      " 4   Datetime       24573 non-null  datetime64[ns]\n",
      "dtypes: datetime64[ns](1), int64(1), object(3)\n",
      "memory usage: 1.1+ MB\n"
     ]
    }
   ],
   "source": [
    "Reactions.info()"
   ]
  },
  {
   "cell_type": "code",
   "execution_count": 370,
   "id": "bfe4dd19-2ce4-40f0-9897-f88a4a68ed01",
   "metadata": {},
   "outputs": [
    {
     "data": {
      "text/plain": [
       "(24573, 5)"
      ]
     },
     "execution_count": 370,
     "metadata": {},
     "output_type": "execute_result"
    }
   ],
   "source": [
    "Reactions.shape"
   ]
  },
  {
   "cell_type": "markdown",
   "id": "2901a2a4-511a-4c65-a612-fb740704b8b1",
   "metadata": {},
   "source": [
    "#### Cleaning ReactionType dataset"
   ]
  },
  {
   "cell_type": "code",
   "execution_count": 448,
   "id": "34560da7-a6b8-463f-ae10-d76ab1583fc4",
   "metadata": {},
   "outputs": [
    {
     "name": "stdout",
     "output_type": "stream",
     "text": [
      "<class 'pandas.core.frame.DataFrame'>\n",
      "RangeIndex: 16 entries, 0 to 15\n",
      "Data columns (total 4 columns):\n",
      " #   Column         Non-Null Count  Dtype \n",
      "---  ------         --------------  ----- \n",
      " 0   Unnamed: 0     16 non-null     int64 \n",
      " 1   Reaction Type  16 non-null     object\n",
      " 2   Sentiment      16 non-null     object\n",
      " 3   Score          16 non-null     int64 \n",
      "dtypes: int64(2), object(2)\n",
      "memory usage: 644.0+ bytes\n"
     ]
    }
   ],
   "source": [
    "ReactionType.info()"
   ]
  },
  {
   "cell_type": "code",
   "execution_count": 372,
   "id": "653392af-3681-4b3d-bd3a-d3838e35dce6",
   "metadata": {},
   "outputs": [],
   "source": [
    "ReactionType = ReactionType.rename(columns = {'Type':'Reaction Type'})"
   ]
  },
  {
   "cell_type": "markdown",
   "id": "e644b1d8-f8df-415d-b61a-d07edf5f90ed",
   "metadata": {},
   "source": [
    "### Data Modelling\n",
    "#### Creating a final data set by merging the three tables together"
   ]
  },
  {
   "cell_type": "code",
   "execution_count": 374,
   "id": "81067ca6-3b3b-41db-b083-62635d6776aa",
   "metadata": {},
   "outputs": [
    {
     "data": {
      "text/html": [
       "<div>\n",
       "<style scoped>\n",
       "    .dataframe tbody tr th:only-of-type {\n",
       "        vertical-align: middle;\n",
       "    }\n",
       "\n",
       "    .dataframe tbody tr th {\n",
       "        vertical-align: top;\n",
       "    }\n",
       "\n",
       "    .dataframe thead th {\n",
       "        text-align: right;\n",
       "    }\n",
       "</style>\n",
       "<table border=\"1\" class=\"dataframe\">\n",
       "  <thead>\n",
       "    <tr style=\"text-align: right;\">\n",
       "      <th></th>\n",
       "      <th>Content ID</th>\n",
       "      <th>User ID</th>\n",
       "      <th>Reaction Type</th>\n",
       "      <th>Datetime</th>\n",
       "      <th>Content_type</th>\n",
       "      <th>Category</th>\n",
       "      <th>Sentiment</th>\n",
       "      <th>Score</th>\n",
       "    </tr>\n",
       "  </thead>\n",
       "  <tbody>\n",
       "    <tr>\n",
       "      <th>0</th>\n",
       "      <td>97522e57-d9ab-4bd6-97bf-c24d952602d2</td>\n",
       "      <td>5d454588-283d-459d-915d-c48a2cb4c27f</td>\n",
       "      <td>disgust</td>\n",
       "      <td>2020-11-07 09:43:50</td>\n",
       "      <td>photo</td>\n",
       "      <td>studying</td>\n",
       "      <td>negative</td>\n",
       "      <td>0</td>\n",
       "    </tr>\n",
       "    <tr>\n",
       "      <th>1</th>\n",
       "      <td>97522e57-d9ab-4bd6-97bf-c24d952602d2</td>\n",
       "      <td>92b87fa5-f271-43e0-af66-84fac21052e6</td>\n",
       "      <td>dislike</td>\n",
       "      <td>2021-06-17 12:22:51</td>\n",
       "      <td>photo</td>\n",
       "      <td>studying</td>\n",
       "      <td>negative</td>\n",
       "      <td>10</td>\n",
       "    </tr>\n",
       "    <tr>\n",
       "      <th>2</th>\n",
       "      <td>97522e57-d9ab-4bd6-97bf-c24d952602d2</td>\n",
       "      <td>163daa38-8b77-48c9-9af6-37a6c1447ac2</td>\n",
       "      <td>scared</td>\n",
       "      <td>2021-04-18 05:13:58</td>\n",
       "      <td>photo</td>\n",
       "      <td>studying</td>\n",
       "      <td>negative</td>\n",
       "      <td>15</td>\n",
       "    </tr>\n",
       "    <tr>\n",
       "      <th>3</th>\n",
       "      <td>97522e57-d9ab-4bd6-97bf-c24d952602d2</td>\n",
       "      <td>34e8add9-0206-47fd-a501-037b994650a2</td>\n",
       "      <td>disgust</td>\n",
       "      <td>2021-01-06 19:13:01</td>\n",
       "      <td>photo</td>\n",
       "      <td>studying</td>\n",
       "      <td>negative</td>\n",
       "      <td>0</td>\n",
       "    </tr>\n",
       "    <tr>\n",
       "      <th>4</th>\n",
       "      <td>97522e57-d9ab-4bd6-97bf-c24d952602d2</td>\n",
       "      <td>9b6d35f9-5e15-4cd0-a8d7-b1f3340e02c4</td>\n",
       "      <td>interested</td>\n",
       "      <td>2020-08-23 12:25:58</td>\n",
       "      <td>photo</td>\n",
       "      <td>studying</td>\n",
       "      <td>positive</td>\n",
       "      <td>30</td>\n",
       "    </tr>\n",
       "    <tr>\n",
       "      <th>...</th>\n",
       "      <td>...</td>\n",
       "      <td>...</td>\n",
       "      <td>...</td>\n",
       "      <td>...</td>\n",
       "      <td>...</td>\n",
       "      <td>...</td>\n",
       "      <td>...</td>\n",
       "      <td>...</td>\n",
       "    </tr>\n",
       "    <tr>\n",
       "      <th>24568</th>\n",
       "      <td>75d6b589-7fae-4a6d-b0d0-752845150e56</td>\n",
       "      <td>80c9ce48-46f9-4f5e-b3ca-3b698fc2e949</td>\n",
       "      <td>dislike</td>\n",
       "      <td>2020-06-27 09:46:48</td>\n",
       "      <td>audio</td>\n",
       "      <td>technology</td>\n",
       "      <td>negative</td>\n",
       "      <td>10</td>\n",
       "    </tr>\n",
       "    <tr>\n",
       "      <th>24569</th>\n",
       "      <td>75d6b589-7fae-4a6d-b0d0-752845150e56</td>\n",
       "      <td>2bd9c167-e06c-47c1-a978-3403d6724606</td>\n",
       "      <td>intrigued</td>\n",
       "      <td>2021-02-16 17:17:02</td>\n",
       "      <td>audio</td>\n",
       "      <td>technology</td>\n",
       "      <td>positive</td>\n",
       "      <td>45</td>\n",
       "    </tr>\n",
       "    <tr>\n",
       "      <th>24570</th>\n",
       "      <td>75d6b589-7fae-4a6d-b0d0-752845150e56</td>\n",
       "      <td>NaN</td>\n",
       "      <td>interested</td>\n",
       "      <td>2020-09-12 03:54:58</td>\n",
       "      <td>audio</td>\n",
       "      <td>technology</td>\n",
       "      <td>positive</td>\n",
       "      <td>30</td>\n",
       "    </tr>\n",
       "    <tr>\n",
       "      <th>24571</th>\n",
       "      <td>75d6b589-7fae-4a6d-b0d0-752845150e56</td>\n",
       "      <td>5ffd8b51-164e-47e2-885e-8b8c46eb63ed</td>\n",
       "      <td>worried</td>\n",
       "      <td>2020-11-04 20:08:31</td>\n",
       "      <td>audio</td>\n",
       "      <td>technology</td>\n",
       "      <td>negative</td>\n",
       "      <td>12</td>\n",
       "    </tr>\n",
       "    <tr>\n",
       "      <th>24572</th>\n",
       "      <td>75d6b589-7fae-4a6d-b0d0-752845150e56</td>\n",
       "      <td>4edc3d1a-a7d9-4db6-89c3-f784d9954172</td>\n",
       "      <td>cherish</td>\n",
       "      <td>2021-01-04 04:55:11</td>\n",
       "      <td>audio</td>\n",
       "      <td>technology</td>\n",
       "      <td>positive</td>\n",
       "      <td>70</td>\n",
       "    </tr>\n",
       "  </tbody>\n",
       "</table>\n",
       "<p>24573 rows × 8 columns</p>\n",
       "</div>"
      ],
      "text/plain": [
       "                                 Content ID  \\\n",
       "0      97522e57-d9ab-4bd6-97bf-c24d952602d2   \n",
       "1      97522e57-d9ab-4bd6-97bf-c24d952602d2   \n",
       "2      97522e57-d9ab-4bd6-97bf-c24d952602d2   \n",
       "3      97522e57-d9ab-4bd6-97bf-c24d952602d2   \n",
       "4      97522e57-d9ab-4bd6-97bf-c24d952602d2   \n",
       "...                                     ...   \n",
       "24568  75d6b589-7fae-4a6d-b0d0-752845150e56   \n",
       "24569  75d6b589-7fae-4a6d-b0d0-752845150e56   \n",
       "24570  75d6b589-7fae-4a6d-b0d0-752845150e56   \n",
       "24571  75d6b589-7fae-4a6d-b0d0-752845150e56   \n",
       "24572  75d6b589-7fae-4a6d-b0d0-752845150e56   \n",
       "\n",
       "                                    User ID Reaction Type            Datetime  \\\n",
       "0      5d454588-283d-459d-915d-c48a2cb4c27f       disgust 2020-11-07 09:43:50   \n",
       "1      92b87fa5-f271-43e0-af66-84fac21052e6       dislike 2021-06-17 12:22:51   \n",
       "2      163daa38-8b77-48c9-9af6-37a6c1447ac2        scared 2021-04-18 05:13:58   \n",
       "3      34e8add9-0206-47fd-a501-037b994650a2       disgust 2021-01-06 19:13:01   \n",
       "4      9b6d35f9-5e15-4cd0-a8d7-b1f3340e02c4    interested 2020-08-23 12:25:58   \n",
       "...                                     ...           ...                 ...   \n",
       "24568  80c9ce48-46f9-4f5e-b3ca-3b698fc2e949       dislike 2020-06-27 09:46:48   \n",
       "24569  2bd9c167-e06c-47c1-a978-3403d6724606     intrigued 2021-02-16 17:17:02   \n",
       "24570                                   NaN    interested 2020-09-12 03:54:58   \n",
       "24571  5ffd8b51-164e-47e2-885e-8b8c46eb63ed       worried 2020-11-04 20:08:31   \n",
       "24572  4edc3d1a-a7d9-4db6-89c3-f784d9954172       cherish 2021-01-04 04:55:11   \n",
       "\n",
       "      Content_type    Category Sentiment  Score  \n",
       "0            photo    studying  negative      0  \n",
       "1            photo    studying  negative     10  \n",
       "2            photo    studying  negative     15  \n",
       "3            photo    studying  negative      0  \n",
       "4            photo    studying  positive     30  \n",
       "...            ...         ...       ...    ...  \n",
       "24568        audio  technology  negative     10  \n",
       "24569        audio  technology  positive     45  \n",
       "24570        audio  technology  positive     30  \n",
       "24571        audio  technology  negative     12  \n",
       "24572        audio  technology  positive     70  \n",
       "\n",
       "[24573 rows x 8 columns]"
      ]
     },
     "execution_count": 374,
     "metadata": {},
     "output_type": "execute_result"
    }
   ],
   "source": [
    "Merge1=Reactions.merge(Content, how = 'inner', on = 'Content ID')\n",
    "Cleaned_dataset = Merge1.merge(ReactionType, how = 'inner', on = 'Reaction Type')\n",
    "Cleaned_dataset = Cleaned_dataset.drop(columns = ['Unnamed: 0_x','Unnamed: 0_y','Unnamed: 0'])\n",
    "Cleaned_dataset"
   ]
  },
  {
   "cell_type": "markdown",
   "id": "b09e600e-5b06-4da6-9343-f03b4e03fe7b",
   "metadata": {},
   "source": [
    "### Data analysis\n",
    "* The brief carefully it states that the client wanted to see “An analysis of their content categories showing the top 5 categories with the largest popularity”re.re."
   ]
  },
  {
   "cell_type": "markdown",
   "id": "6237fe36-e55e-4011-b7bb-9bce78aee0d1",
   "metadata": {},
   "source": [
    "#### What are the Top 5 Categories?"
   ]
  },
  {
   "cell_type": "code",
   "execution_count": 377,
   "id": "f13cb789-eb53-48d3-a8fe-1438c2c731dd",
   "metadata": {},
   "outputs": [],
   "source": [
    "top_5_categories = Cleaned_dataset.groupby('Category')['Score'].sum().sort_values(ascending = False).head(5).reset_index()"
   ]
  },
  {
   "cell_type": "code",
   "execution_count": 378,
   "id": "9bd89520-bddf-4ed3-b26d-ca3c86a06786",
   "metadata": {},
   "outputs": [
    {
     "data": {
      "text/html": [
       "<div>\n",
       "<style scoped>\n",
       "    .dataframe tbody tr th:only-of-type {\n",
       "        vertical-align: middle;\n",
       "    }\n",
       "\n",
       "    .dataframe tbody tr th {\n",
       "        vertical-align: top;\n",
       "    }\n",
       "\n",
       "    .dataframe thead th {\n",
       "        text-align: right;\n",
       "    }\n",
       "</style>\n",
       "<table border=\"1\" class=\"dataframe\">\n",
       "  <thead>\n",
       "    <tr style=\"text-align: right;\">\n",
       "      <th></th>\n",
       "      <th>Category</th>\n",
       "      <th>Score</th>\n",
       "    </tr>\n",
       "  </thead>\n",
       "  <tbody>\n",
       "    <tr>\n",
       "      <th>0</th>\n",
       "      <td>animals</td>\n",
       "      <td>74965</td>\n",
       "    </tr>\n",
       "    <tr>\n",
       "      <th>1</th>\n",
       "      <td>science</td>\n",
       "      <td>71168</td>\n",
       "    </tr>\n",
       "    <tr>\n",
       "      <th>2</th>\n",
       "      <td>healthy eating</td>\n",
       "      <td>69339</td>\n",
       "    </tr>\n",
       "    <tr>\n",
       "      <th>3</th>\n",
       "      <td>technology</td>\n",
       "      <td>68738</td>\n",
       "    </tr>\n",
       "    <tr>\n",
       "      <th>4</th>\n",
       "      <td>food</td>\n",
       "      <td>66676</td>\n",
       "    </tr>\n",
       "  </tbody>\n",
       "</table>\n",
       "</div>"
      ],
      "text/plain": [
       "         Category  Score\n",
       "0         animals  74965\n",
       "1         science  71168\n",
       "2  healthy eating  69339\n",
       "3      technology  68738\n",
       "4            food  66676"
      ]
     },
     "execution_count": 378,
     "metadata": {},
     "output_type": "execute_result"
    }
   ],
   "source": [
    "top_5_categories"
   ]
  },
  {
   "cell_type": "code",
   "execution_count": 380,
   "id": "50ce8cb9-4b3d-4983-bb0a-a8b53a1e1d92",
   "metadata": {},
   "outputs": [
    {
     "data": {
      "image/png": "[encoded data removed]",
      "text/plain": [
       "<Figure size 640x480 with 1 Axes>"
      ]
     },
     "metadata": {},
     "output_type": "display_data"
    }
   ],
   "source": [
    "top_5_categories.plot(kind = 'bar',x = 'Category', y = 'Score',legend = False, color = 'skyblue')\n",
    "plt.xlabel('Category')\n",
    "plt.ylabel('Values')\n",
    "plt.title('Top 5 Categories Based on Scores')\n",
    "plt.savefig('top_5_categories.png',bbox_inches='tight', pad_inches=0.1)\n",
    "plt.show()"
   ]
  },
  {
   "cell_type": "markdown",
   "id": "311eaeaf-4ae7-4630-8565-2e1eedc17bd2",
   "metadata": {},
   "source": [
    "#### Popularity share within the top 5 categories"
   ]
  },
  {
   "cell_type": "code",
   "execution_count": 382,
   "id": "36b92423-ea27-4575-9ea0-fac1a960f628",
   "metadata": {},
   "outputs": [],
   "source": [
    "top_5_categories.set_index('Category',inplace=True)"
   ]
  },
  {
   "cell_type": "code",
   "execution_count": 430,
   "id": "6e11b22c-1bc8-4326-b90d-1753dc32f140",
   "metadata": {},
   "outputs": [
    {
     "data": {
      "text/plain": [
       "Text(0, 0.5, '')"
      ]
     },
     "execution_count": 430,
     "metadata": {},
     "output_type": "execute_result"
    },
    {
     "data": {
      "image/png": "[encoded data removed]",
      "text/plain": [
       "<Figure size 640x480 with 1 Axes>"
      ]
     },
     "metadata": {},
     "output_type": "display_data"
    }
   ],
   "source": [
    "top_5_categories.plot(kind = 'pie',y='Score',autopct='%1.1f%%',startangle=90,legend = False)\n",
    "plt.ylabel('')\n"
   ]
  },
  {
   "cell_type": "markdown",
   "id": "14cd9aa8-ea51-4c7b-9fb6-2cc6206f5fee",
   "metadata": {},
   "source": [
    "### How many unique Content Categories are there?"
   ]
  },
  {
   "cell_type": "code",
   "execution_count": 385,
   "id": "72a65f3a-d71f-4681-98e5-1e2d04bf4d74",
   "metadata": {},
   "outputs": [
    {
     "data": {
      "text/plain": [
       "(16,)"
      ]
     },
     "execution_count": 385,
     "metadata": {},
     "output_type": "execute_result"
    }
   ],
   "source": [
    "Content['Category'].unique().shape"
   ]
  },
  {
   "cell_type": "markdown",
   "id": "62d07a9d-e189-4293-918f-4151ae5977c7",
   "metadata": {},
   "source": [
    "#### There are 16 unique Categories\n",
    "##### Some of which include Animals, cooking, food etc"
   ]
  },
  {
   "cell_type": "markdown",
   "id": "db6e5f27-5120-4f5d-bba6-04fd89c3e566",
   "metadata": {},
   "source": [
    "### What was the month with the most posts?"
   ]
  },
  {
   "cell_type": "code",
   "execution_count": 388,
   "id": "bbf7b259-f694-43f4-98db-d124d1b59fb8",
   "metadata": {},
   "outputs": [
    {
     "data": {
      "text/plain": [
       "month\n",
       "January      2126\n",
       "February     1914\n",
       "March        2012\n",
       "April        1974\n",
       "May          2138\n",
       "June         2021\n",
       "July         2070\n",
       "August       2114\n",
       "September    2022\n",
       "October      2056\n",
       "November     2034\n",
       "December     2092\n",
       "Name: Content ID, dtype: int64"
      ]
     },
     "execution_count": 388,
     "metadata": {},
     "output_type": "execute_result"
    }
   ],
   "source": [
    "Cleaned_dataset['month'] = Cleaned_dataset['Datetime'].dt.month_name()\n",
    "\n",
    "month_order = pd.CategoricalDtype(\n",
    "    ['January', 'February', 'March', 'April', 'May', 'June',\n",
    "     'July', 'August', 'September', 'October', 'November', 'December'],\n",
    "    ordered=True\n",
    ")\n",
    "\n",
    "# Convert month to categorical with the correct order\n",
    "Cleaned_dataset['month'] = Cleaned_dataset['month'].astype(month_order)\n",
    "\n",
    "# Group by month and sum the values\n",
    "monthly_group = Cleaned_dataset.groupby('month',observed=True)['Content ID'].count()\n",
    "monthly_group "
   ]
  },
  {
   "cell_type": "code",
   "execution_count": 433,
   "id": "660e5bb2-b608-4535-a153-3db49273ed98",
   "metadata": {},
   "outputs": [
    {
     "data": {
      "image/png": "[encoded data removed]",
      "text/plain": [
       "<Figure size 640x480 with 1 Axes>"
      ]
     },
     "metadata": {},
     "output_type": "display_data"
    }
   ],
   "source": [
    "# plt.figure(figsize=(10, 6))\n",
    "monthly_group.plot(kind = 'line', x= 'month' , y = 'Content ID', legend=False)\n",
    "\n",
    "# plt.xticks(rotation=45)\n",
    "plt.xlabel('Month')\n",
    "plt.ylabel('No of posts ')\n",
    "plt.title('Monthly Posts')\n",
    "\n",
    "# Display the plot\n",
    "plt.tight_layout()  # Adjust layout to fit labels\n",
    "\n",
    "plt.savefig('Monthly_posts.png',bbox_inches='tight', pad_inches=0.1)\n",
    "plt.show()"
   ]
  },
  {
   "cell_type": "markdown",
   "id": "2d120dae-dc92-4707-8d02-c529741ec22a",
   "metadata": {},
   "source": [
    "#### Month of May had the most no of posts, followed by Jan and Aug.\n",
    "#### Least no of posts were seen in Feb"
   ]
  },
  {
   "cell_type": "markdown",
   "id": "d08a1620-3924-4492-ba0a-fe1c24aafb1e",
   "metadata": {},
   "source": [
    "### How many reactions did the top Category get?"
   ]
  },
  {
   "cell_type": "code",
   "execution_count": 392,
   "id": "bb8c96f4-2712-4f15-a82a-14b1e1a81c24",
   "metadata": {},
   "outputs": [
    {
     "data": {
      "text/plain": [
       "Category\n",
       "animals    1897\n",
       "Name: Reaction Type, dtype: int64"
      ]
     },
     "execution_count": 392,
     "metadata": {},
     "output_type": "execute_result"
    }
   ],
   "source": [
    "Cleaned_dataset.groupby('Category')['Reaction Type'].count().sort_values(ascending = False).head(1)"
   ]
  },
  {
   "cell_type": "markdown",
   "id": "130e938d-887c-4785-bf05-d58251e3d161",
   "metadata": {},
   "source": [
    "#### 1897 reactions for the Animals Category"
   ]
  },
  {
   "cell_type": "markdown",
   "id": "2c1e4ab4-008f-4717-93aa-6ab6c3a6eadc",
   "metadata": {},
   "source": [
    "### Summary\n",
    "#### Animals and Science are the 2 most popular content, showing that people enjoy 'real-life' and 'factual' content the most."
   ]
  },
  {
   "cell_type": "markdown",
   "id": "d5809c89-9b25-45b2-bbd2-01ce675c8993",
   "metadata": {},
   "source": [
    "### Insigts and recommendations"
   ]
  },
  {
   "cell_type": "markdown",
   "id": "4e55be86-804b-4acf-ad9b-7d526aac74a7",
   "metadata": {},
   "source": [
    "#### Food is a common theme with the top 5 categories with \"Healthy Eating\" ranking the highest. This may give an indicatlon to the audience within your user base. You could use this insight to create a campaign and work with healthy eating brands to boost user engagement."
   ]
  },
  {
   "cell_type": "code",
   "execution_count": null,
   "id": "4839cf8c-be9c-444b-a34c-2f98cf1cf27d",
   "metadata": {},
   "outputs": [],
   "source": []
  }
 ],
 "metadata": {
  "kernelspec": {
   "display_name": "Python 3 (ipykernel)",
   "language": "python",
   "name": "python3"
  },
  "language_info": {
   "codemirror_mode": {
    "name": "ipython",
    "version": 3
   },
   "file_extension": ".py",
   "mimetype": "text/x-python",
   "name": "python",
   "nbconvert_exporter": "python",
   "pygments_lexer": "ipython3",
   "version": "3.12.4"
  }
 },
 "nbformat": 4,
 "nbformat_minor": 5
}
